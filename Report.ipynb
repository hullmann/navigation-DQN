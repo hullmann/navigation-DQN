{
 "cells": [
  {
   "cell_type": "markdown",
   "metadata": {},
   "source": [
    "# Report Project 1: Navigation\n",
    "\n",
    "The Bananas environment is solved using a Deep Reinforcement Learning Agent that is very similar to the DQN Agent used for OpenAI Gym's LunarLander-v2. Please check [here](https://github.com/udacity/deep-reinforcement-learning/tree/master/dqn/solution) for the original source code.\n",
    "\n",
    "\n",
    "## 1. Implementation\n",
    "The implementation consists of the following components\n",
    "- a IPython Notebook `Navigation.ipynb` that instantiates the Unity environment (having a 37-dimensional state space and 4 possible actions) and then the DQN Agent using `Agent(state_size=37, action_size=4, seed=0)`. It  basically organizes the communication between agent and environment by exchanging states, actions and rewards.\n",
    "- a file `dqn_agent.py` implementing the `Agent`-class. The most important methods called from the IPython Notebook are\n",
    "    - `act` that is used to get the next action of the agent and\n",
    "    - `step` that is used to feed back the reward and new state to the agent.\n",
    "- a file `model.py` that implements a feed-forward neural network with two hidden layers. More details on the machine learning model are given in the next section.\n",
    "\n",
    "## 2. Learning Algorithm\n",
    "\n",
    "At the heart of the agent is a feed-forward neural network with two hidden layers an ReLU activations. The input layer has 37 neurons corresponding to the dimensionality of the state space. The output layer has 4 output neurons corresponding to the 4 possible actions the agent can take. The hidden layers have 64 neurons.\n",
    "\n",
    "The DQN agent uses a replay buffer size of 10.000 and triggers an update of the neural network every 4 steps with a batch size of 64 `(state, action, reward, new_state, done)`-tuples from the replay buffer. We need fixed Q-targets to compute our MSE loss properly. Then, the target weights are updated with a soft update with paramter tau=10e-3, which sounds very slow, but given that the learning is triggered every 4 steps the update procedure gets called frequently.\n",
    "\n",
    "We use an Adam optimizer with a learning rate of 5e-4 and future rewards are discounted with 0.99. The latter parameter has no actual meaning (I guess it could also be 1.0), but as it was used like this in the Lunar Lander code I suppose it is best practice.\n",
    "\n",
    "## 3. Plot of Rewards\n",
    "\n",
    "I initially stopped the learning when the agent had a score of at least 13 on average. However, this was a bit early and when watching the agent in action I found there were some really bad episodes when the agent tilted back and forth between a blue banana and the boundary. That is why I aimed a bit higher and required a score of 16 solve the environment. This was actually achieved in 953 episodes:\n",
    "\n",
    "```\n",
    "Episode 100\tAverage Score: 1.15\n",
    "Episode 200\tAverage Score: 5.15\n",
    "Episode 300\tAverage Score: 7.89\n",
    "Episode 400\tAverage Score: 10.92\n",
    "Episode 500\tAverage Score: 13.95\n",
    "Episode 600\tAverage Score: 14.55\n",
    "Episode 700\tAverage Score: 15.26\n",
    "Episode 800\tAverage Score: 14.91\n",
    "Episode 900\tAverage Score: 14.96\n",
    "Episode 1000\tAverage Score: 15.67\n",
    "Episode 1053\tAverage Score: 16.04\n",
    "Environment solved in 953 episodes!\tAverage Score: 16.04\n",
    "```\n",
    "\n",
    "The corresponding **plot** can be found in the cell of the Section [Train the Agent with DQN](#2.-Train-the-Agent-with-DQN)\n",
    "\n",
    "\n",
    "\n",
    "## 4. Ideas for Future Work\n",
    "\n",
    "- I think it would be nice to display the current score in the Unity environment\n",
    "- Similar to the [Rainbow paper](https://arxiv.org/abs/1710.02298), we could implement some additional features\n",
    "    - Double DQN (DDQN)\n",
    "    - Prioritized experience replay\n",
    "    - Dueling DQN\n",
    "    - multi-step bootstrap targets \n",
    "    - Distributional DQN\n",
    "    - Noisy DQN\n",
    "- Also creating an agent learning from raw pixels would of course be awesome"
   ]
  },
  {
   "cell_type": "markdown",
   "metadata": {},
   "source": [
    "# IPython Notebook\n",
    "---\n",
    "\n",
    "You can either train the agent yourself or let it run based on weights that I saved. No matter how you decide, the following cells for the setup have to be executed.\n",
    "\n",
    "## 1. Setup phase\n",
    "\n",
    "\n",
    "### 1.1. Necessary Imports"
   ]
  },
  {
   "cell_type": "code",
   "execution_count": 1,
   "metadata": {},
   "outputs": [],
   "source": [
    "from unityagents import UnityEnvironment\n",
    "import numpy as np\n",
    "from dqn_agent import Agent\n",
    "import time\n",
    "from collections import deque\n",
    "import matplotlib.pyplot as plt\n",
    "import torch"
   ]
  },
  {
   "cell_type": "markdown",
   "metadata": {},
   "source": [
    "### 2. Initiating the Unity environment\n",
    "\n",
    "The following lines print some information about the environment."
   ]
  },
  {
   "cell_type": "code",
   "execution_count": 2,
   "metadata": {},
   "outputs": [
    {
     "name": "stderr",
     "output_type": "stream",
     "text": [
      "INFO:unityagents:\n",
      "'Academy' started successfully!\n",
      "Unity Academy name: Academy\n",
      "        Number of Brains: 1\n",
      "        Number of External Brains : 1\n",
      "        Lesson number : 0\n",
      "        Reset Parameters :\n",
      "\t\t\n",
      "Unity brain name: BananaBrain\n",
      "        Number of Visual Observations (per agent): 0\n",
      "        Vector Observation space type: continuous\n",
      "        Vector Observation space size (per agent): 37\n",
      "        Number of stacked Vector Observation: 1\n",
      "        Vector Action space type: discrete\n",
      "        Vector Action space size (per agent): 4\n",
      "        Vector Action descriptions: , , , \n"
     ]
    },
    {
     "name": "stdout",
     "output_type": "stream",
     "text": [
      "Number of agents: 1\n",
      "Number of actions: 4\n",
      "States look like: [1.         0.         0.         0.         0.84408134 0.\n",
      " 0.         1.         0.         0.0748472  0.         1.\n",
      " 0.         0.         0.25755    1.         0.         0.\n",
      " 0.         0.74177343 0.         1.         0.         0.\n",
      " 0.25854847 0.         0.         1.         0.         0.09355672\n",
      " 0.         1.         0.         0.         0.31969345 0.\n",
      " 0.        ]\n",
      "States have length: 37\n"
     ]
    }
   ],
   "source": [
    "env = UnityEnvironment(file_name=\"Banana_Linux/Banana.x86_64\")\n",
    "brain_name = env.brain_names[0]\n",
    "brain = env.brains[brain_name]\n",
    "# reset the environment\n",
    "env_info = env.reset(train_mode=True)[brain_name]\n",
    "\n",
    "# number of agents in the environment\n",
    "print('Number of agents:', len(env_info.agents))\n",
    "\n",
    "# number of actions\n",
    "action_size = brain.vector_action_space_size\n",
    "print('Number of actions:', action_size)\n",
    "\n",
    "# examine the state space \n",
    "state = env_info.vector_observations[0]\n",
    "print('States look like:', state)\n",
    "state_size = len(state)\n",
    "print('States have length:', state_size)"
   ]
  },
  {
   "cell_type": "markdown",
   "metadata": {},
   "source": [
    "## 2. Train the Agent with DQN\n",
    "Training the agent takes a bit of patience, but typically not more than 500 episodes are needed to collect more than 13 bananas on average over 100 runs. The weights in the file `checkpoint.pth` were computed over 1053 episodes resulting in an average of 16 bananas over the last 100 runs."
   ]
  },
  {
   "cell_type": "code",
   "execution_count": 3,
   "metadata": {},
   "outputs": [
    {
     "name": "stdout",
     "output_type": "stream",
     "text": [
      "Episode 100\tAverage Score: 1.15\n",
      "Episode 200\tAverage Score: 5.15\n",
      "Episode 300\tAverage Score: 7.89\n",
      "Episode 400\tAverage Score: 10.92\n",
      "Episode 500\tAverage Score: 13.95\n",
      "Episode 600\tAverage Score: 14.55\n",
      "Episode 700\tAverage Score: 15.26\n",
      "Episode 800\tAverage Score: 14.91\n",
      "Episode 900\tAverage Score: 14.96\n",
      "Episode 1000\tAverage Score: 15.67\n",
      "Episode 1053\tAverage Score: 16.04\n",
      "Environment solved in 953 episodes!\tAverage Score: 16.04\n"
     ]
    },
    {
     "data": {
      "image/png": "[encoded data removed]",
      "text/plain": [
       "<Figure size 432x288 with 1 Axes>"
      ]
     },
     "metadata": {
      "needs_background": "light"
     },
     "output_type": "display_data"
    }
   ],
   "source": [
    "def dqn(n_episodes=2000, max_t=1000, eps_start=1.0, eps_end=0.01, eps_decay=0.995):\n",
    "    \"\"\"Deep Q-Learning.\n",
    "    \n",
    "    Params\n",
    "    ======\n",
    "        n_episodes (int): maximum number of training episodes\n",
    "        max_t (int): maximum number of timesteps per episode\n",
    "        eps_start (float): starting value of epsilon, for epsilon-greedy action selection\n",
    "        eps_end (float): minimum value of epsilon\n",
    "        eps_decay (float): multiplicative factor (per episode) for decreasing epsilon\n",
    "    \"\"\"\n",
    "    scores = []                        # list containing scores from each episode\n",
    "    scores_window = deque(maxlen=100)  # last 100 scores\n",
    "    eps = eps_start                    # initialize epsilon\n",
    "    for i_episode in range(1, n_episodes+1):\n",
    "        env_info = env.reset(train_mode=True)[brain_name] # reset the environment\n",
    "        state = env_info.vector_observations[0]            # get the current state\n",
    "        score = 0\n",
    "        for t in range(max_t):\n",
    "            action = agent.act(state, eps)\n",
    "            env_info = env.step(action)[brain_name]        # send the action to the environment\n",
    "            next_state = env_info.vector_observations[0]   # get the next state\n",
    "            reward = env_info.rewards[0]                   # get the reward\n",
    "            done = env_info.local_done[0]                  # see if episode has finished\n",
    "            score += reward                                # update the score\n",
    "\n",
    "            agent.step(state, action, reward, next_state, done)\n",
    "\n",
    "            state = next_state                             # roll over the state to next time step\n",
    "            if done:                                       # exit loop if episode finished\n",
    "                break\n",
    "            \n",
    "        scores_window.append(score)       # save most recent score\n",
    "        scores.append(score)              # save most recent score\n",
    "        eps = max(eps_end, eps_decay*eps) # decrease epsilon\n",
    "        print('\\rEpisode {}\\tAverage Score: {:.2f}'.format(i_episode, np.mean(scores_window)), end=\"\")\n",
    "        if i_episode % 100 == 0:\n",
    "            print('\\rEpisode {}\\tAverage Score: {:.2f}'.format(i_episode, np.mean(scores_window)))\n",
    "        if np.mean(scores_window)>13.0:\n",
    "            print('\\nEnvironment solved in {:d} episodes!\\tAverage Score: {:.2f}'.format(i_episode-100, np.mean(scores_window)))\n",
    "            torch.save(agent.qnetwork_local.state_dict(), 'checkpoint.pth')\n",
    "            break\n",
    "    return scores\n",
    "\n",
    "agent = Agent(state_size=37, action_size=4, seed=0)\n",
    "scores = dqn(n_episodes=2000)\n",
    "\n",
    "# plot the scores\n",
    "fig = plt.figure()\n",
    "ax = fig.add_subplot(111)\n",
    "plt.plot(np.arange(len(scores)), scores)\n",
    "plt.ylabel('Score')\n",
    "plt.xlabel('Episode #')\n",
    "plt.show()"
   ]
  },
  {
   "cell_type": "markdown",
   "metadata": {},
   "source": [
    "The last plot shows the increasing average reward per episode (over the last 100 episodes).\n",
    "\n",
    "## 3. Watch the agent in Action \n",
    "Now it's time to see the agent in action. If you ran the code in step 2 it will be based on your trained weights, otherweise it will be based on the pretrained weights in the repository. Please not that there is a command\n",
    "\n",
    "```\n",
    "time.sleep(.1)\n",
    "```\n",
    "\n",
    "in the next block of code that slows down the simulations. Feel free to increase or decrease the delay per time step."
   ]
  },
  {
   "cell_type": "code",
   "execution_count": 4,
   "metadata": {
    "scrolled": true
   },
   "outputs": [
    {
     "name": "stdout",
     "output_type": "stream",
     "text": [
      "Score: 15.0\n"
     ]
    }
   ],
   "source": [
    "agent = Agent(state_size=37, action_size=4, seed=0)\n",
    "agent.qnetwork_local.load_state_dict(torch.load('checkpoint.pth'))\n",
    "\n",
    "env_info = env.reset(train_mode=True)[brain_name] # reset the environment\n",
    "state = env_info.vector_observations[0]            # get the current state\n",
    "score = 0                                          # initialize the score\n",
    "while True:\n",
    "    #action = np.random.randint(action_size)        # select an action\n",
    "    action = agent.act(state)\n",
    "    #print(state, action)\n",
    "    env_info = env.step(action)[brain_name]        # send the action to the environment\n",
    "    next_state = env_info.vector_observations[0]   # get the next state\n",
    "    reward = env_info.rewards[0]                   # get the reward\n",
    "    done = env_info.local_done[0]                  # see if episode has finished\n",
    "    score += reward                                # update the score\n",
    "    time.sleep(.1)\n",
    "    state = next_state                             # roll over the state to next time step\n",
    "    if done:                                       # exit loop if episode finished\n",
    "        break\n",
    "    \n",
    "print(\"Score: {}\".format(score))"
   ]
  },
  {
   "cell_type": "markdown",
   "metadata": {},
   "source": [
    "When done, the following call closes the Unity environment."
   ]
  },
  {
   "cell_type": "code",
   "execution_count": 5,
   "metadata": {},
   "outputs": [],
   "source": [
    "env.close()"
   ]
  },
  {
   "cell_type": "code",
   "execution_count": null,
   "metadata": {},
   "outputs": [],
   "source": []
  }
 ],
 "metadata": {
  "kernelspec": {
   "display_name": "drlnd",
   "language": "python",
   "name": "drlnd"
  },
  "language_info": {
   "codemirror_mode": {
    "name": "ipython",
    "version": 3
   },
   "file_extension": ".py",
   "mimetype": "text/x-python",
   "name": "python",
   "nbconvert_exporter": "python",
   "pygments_lexer": "ipython3",
   "version": "3.6.9"
  }
 },
 "nbformat": 4,
 "nbformat_minor": 2
}
